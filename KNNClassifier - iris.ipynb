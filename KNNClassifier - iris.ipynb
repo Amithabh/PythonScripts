{
 "cells": [
  {
   "cell_type": "code",
   "execution_count": 6,
   "metadata": {
    "collapsed": true
   },
   "outputs": [],
   "source": [
    "import numpy as np\n",
    "%matplotlib inline\n",
    "from pylab import *\n",
    "from sklearn import svm, datasets\n",
    "from sklearn.datasets import load_iris\n",
    "import pandas as pd\n",
    "from sklearn import metrics\n",
    "from sklearn.neighbors import KNeighborsClassifier"
   ]
  },
  {
   "cell_type": "code",
   "execution_count": 7,
   "metadata": {
    "collapsed": true
   },
   "outputs": [],
   "source": [
    "iris = load_iris()\n",
    "df = pd.DataFrame(iris.data, columns=iris.feature_names)\n",
    "df['is_train'] = np.random.uniform(0, 1, len(df)) <= .75\n",
    "df['species'] = pd.Categorical.from_codes(iris.target, iris.target_names)\n",
    "train, test = df[df['is_train']==True], df[df['is_train']==False]\n",
    "features = df.columns[:4]\n",
    "y_train, _ = pd.factorize(train['species'])\n",
    "X_train = train[features]\n",
    "actual, _ = pd.factorize(test['species'])\n",
    "X_test = test[features]"
   ]
  },
  {
   "cell_type": "code",
   "execution_count": 9,
   "metadata": {
    "collapsed": false
   },
   "outputs": [],
   "source": [
    "knn = KNeighborsClassifier()\n",
    "knn.fit(X_train, y_train)\n",
    "predicted = knn.predict(X_test)"
   ]
  },
  {
   "cell_type": "code",
   "execution_count": 11,
   "metadata": {
    "collapsed": false
   },
   "outputs": [
    {
     "name": "stdout",
     "output_type": "stream",
     "text": [
      "predicted   0  1   2\n",
      "actual              \n",
      "0          18  0   0\n",
      "1           0  8   1\n",
      "2           0  1  11\n",
      "\n",
      "             precision    recall  f1-score   support\n",
      "\n",
      "          0       1.00      1.00      1.00        18\n",
      "          1       0.89      0.89      0.89         9\n",
      "          2       0.92      0.92      0.92        12\n",
      "\n",
      "avg / total       0.95      0.95      0.95        39\n",
      "\n"
     ]
    }
   ],
   "source": [
    "# Evaluation of model\n",
    "print(pd.crosstab(actual, predicted, rownames=['actual'], colnames=['predicted']))\n",
    "\n",
    "print()\n",
    "\n",
    "# summarize the fit of the model\n",
    "print(metrics.classification_report(actual, predicted))"
   ]
  },
  {
   "cell_type": "code",
   "execution_count": 12,
   "metadata": {
    "collapsed": false
   },
   "outputs": [
    {
     "name": "stdout",
     "output_type": "stream",
     "text": [
      "[ 0.96666667  1.          0.93333333  0.96666667  1.        ]\n",
      "0.973333333333\n"
     ]
    }
   ],
   "source": [
    "from sklearn import cross_validation\n",
    "# We give cross_val_score a model, the entire data set and its \"real\" values, and the number of folds:\n",
    "scores = cross_validation.cross_val_score(knn, iris.data, iris.target, cv=5)\n",
    "\n",
    "# Print the accuracy for each fold:\n",
    "print (scores)\n",
    "\n",
    "# And the mean accuracy of all 5 folds:\n",
    "print (scores.mean())"
   ]
  }
 ],
 "metadata": {
  "anaconda-cloud": {},
  "kernelspec": {
   "display_name": "Python [Root]",
   "language": "python",
   "name": "Python [Root]"
  },
  "language_info": {
   "codemirror_mode": {
    "name": "ipython",
    "version": 3
   },
   "file_extension": ".py",
   "mimetype": "text/x-python",
   "name": "python",
   "nbconvert_exporter": "python",
   "pygments_lexer": "ipython3",
   "version": "3.5.2"
  }
 },
 "nbformat": 4,
 "nbformat_minor": 0
}
