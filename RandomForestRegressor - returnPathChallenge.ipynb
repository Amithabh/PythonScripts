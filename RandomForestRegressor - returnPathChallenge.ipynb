{
 "cells": [
  {
   "cell_type": "code",
   "execution_count": 1,
   "metadata": {
    "collapsed": true
   },
   "outputs": [],
   "source": [
    "# Loading of libraries for analysis\n",
    "import matplotlib.pyplot as plt\n",
    "import numpy as np\n",
    "from sklearn import datasets, linear_model\n",
    "from sklearn.ensemble import RandomForestRegressor\n",
    "import pandas as pd"
   ]
  },
  {
   "cell_type": "code",
   "execution_count": 2,
   "metadata": {
    "collapsed": true
   },
   "outputs": [],
   "source": [
    "# Preprocessing of data\n",
    "my_dat = pd.read_csv(\"assessment_challenge.csv\")\n",
    "my_dat = my_dat.dropna()\n",
    "X = my_dat.iloc[:,[7,8,9,10,11,12,13,14,16,17]]\n",
    "Y = my_dat.iloc[:,1]\n",
    "train_dat  = my_dat.sample(frac=0.7,random_state=200)\n",
    "test_dat = my_dat.drop(train_dat.index)\n",
    "training = train_dat.iloc[:,[1,7,8,9,10,11,12,13,14,16,17]]\n",
    "testing = test_dat.iloc[:,[1,7,8,9,10,11,12,13,14,16,17]]\n",
    "training_X = training.iloc[:,1:11]\n",
    "training_Y = training.iloc[:,0]\n",
    "testing_X = testing.iloc[:,1:11]\n",
    "testing_Y = testing.iloc[:,0]"
   ]
  },
  {
   "cell_type": "code",
   "execution_count": 3,
   "metadata": {
    "collapsed": false
   },
   "outputs": [
    {
     "data": {
      "text/plain": [
       "RandomForestRegressor(bootstrap=True, criterion='mse', max_depth=None,\n",
       "           max_features='auto', max_leaf_nodes=None, min_samples_leaf=1,\n",
       "           min_samples_split=2, min_weight_fraction_leaf=0.0,\n",
       "           n_estimators=100, n_jobs=4, oob_score=True, random_state=10,\n",
       "           verbose=0, warm_start=False)"
      ]
     },
     "execution_count": 3,
     "metadata": {},
     "output_type": "execute_result"
    }
   ],
   "source": [
    "# Training the model\n",
    "model= RandomForestRegressor(n_estimators=100, random_state = 10, oob_score=True, n_jobs=4)\n",
    "model.fit(training_X, training_Y)"
   ]
  },
  {
   "cell_type": "code",
   "execution_count": 4,
   "metadata": {
    "collapsed": false
   },
   "outputs": [
    {
     "name": "stdout",
     "output_type": "stream",
     "text": [
      "The value of R-squared on training set is:  0.963\n",
      "The value of R-squared on testing set is:  0.792\n"
     ]
    }
   ],
   "source": [
    "# Prediction and Evaluation of model\n",
    "predictions = model.predict(testing_X)\n",
    "from sklearn.metrics import r2_score\n",
    "\n",
    "coefficient_of_dermination = r2_score(testing_Y, predictions)\n",
    "print(\"The value of R-squared on training set is: \",round(model.score(training_X, training_Y),3))\n",
    "print(\"The value of R-squared on testing set is: \",round(coefficient_of_dermination,3))"
   ]
  },
  {
   "cell_type": "code",
   "execution_count": 5,
   "metadata": {
    "collapsed": false
   },
   "outputs": [
    {
     "name": "stdout",
     "output_type": "stream",
     "text": [
      "[ 0.77022832  0.78176507  0.79408033  0.77525546  0.78262292]\n",
      "0.780790418305\n"
     ]
    }
   ],
   "source": [
    "#Evaluation of model using K-fold Cross Validation\n",
    "from sklearn import cross_validation\n",
    "# We give cross_val_score a model, the entire data set and its \"real\" values, and the number of folds:\n",
    "scores = cross_validation.cross_val_score(model, X, Y, cv=5)\n",
    "\n",
    "# Print the accuracy for each fold:\n",
    "print (scores)\n",
    "\n",
    "# And the mean accuracy of all 5 folds:\n",
    "print (scores.mean())"
   ]
  }
 ],
 "metadata": {
  "anaconda-cloud": {},
  "kernelspec": {
   "display_name": "Python [Root]",
   "language": "python",
   "name": "Python [Root]"
  },
  "language_info": {
   "codemirror_mode": {
    "name": "ipython",
    "version": 3
   },
   "file_extension": ".py",
   "mimetype": "text/x-python",
   "name": "python",
   "nbconvert_exporter": "python",
   "pygments_lexer": "ipython3",
   "version": "3.5.2"
  }
 },
 "nbformat": 4,
 "nbformat_minor": 0
}
