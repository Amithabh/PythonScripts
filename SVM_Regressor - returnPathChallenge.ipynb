{
 "cells": [
  {
   "cell_type": "code",
   "execution_count": 2,
   "metadata": {
    "collapsed": true
   },
   "outputs": [],
   "source": [
    "# Loading of libraries for analysis\n",
    "import matplotlib.pyplot as plt\n",
    "import numpy as np\n",
    "from sklearn import svm\n",
    "import pandas as pd"
   ]
  },
  {
   "cell_type": "code",
   "execution_count": 4,
   "metadata": {
    "collapsed": true
   },
   "outputs": [],
   "source": [
    "# Preprocessing of data\n",
    "my_dat = pd.read_csv(\"assessment_challenge.csv\")\n",
    "my_dat = my_dat.dropna()\n",
    "train_dat  = my_dat.sample(frac=0.7,random_state=200)\n",
    "test_dat = my_dat.drop(train_dat.index)\n",
    "training = train_dat.iloc[:,[1,7,8,9,10,11,12,13,14,16,17]]\n",
    "testing = test_dat.iloc[:,[1,7,8,9,10,11,12,13,14,16,17]]\n",
    "training_X = training.iloc[:,1:11]\n",
    "training_Y = training.iloc[:,0]\n",
    "testing_X = testing.iloc[:,1:11]\n",
    "testing_Y = testing.iloc[:,0]"
   ]
  },
  {
   "cell_type": "code",
   "execution_count": 7,
   "metadata": {
    "collapsed": false
   },
   "outputs": [
    {
     "data": {
      "text/plain": [
       "SVR(C=1.0, cache_size=200, coef0=0.0, degree=3, epsilon=0.1, gamma='auto',\n",
       "  kernel='rbf', max_iter=-1, shrinking=True, tol=0.001, verbose=False)"
      ]
     },
     "execution_count": 7,
     "metadata": {},
     "output_type": "execute_result"
    }
   ],
   "source": [
    "# Training the model\n",
    "clf = svm.SVR()\n",
    "clf.fit(training_X, training_Y) "
   ]
  },
  {
   "cell_type": "code",
   "execution_count": 9,
   "metadata": {
    "collapsed": false
   },
   "outputs": [
    {
     "name": "stdout",
     "output_type": "stream",
     "text": [
      "The value of R-squared on training set is:  0.732\n",
      "The value of R-squared on testing set is:  0.755\n"
     ]
    }
   ],
   "source": [
    "# Prediction and Evaluation of model\n",
    "predictions = clf.predict(testing_X)\n",
    "from sklearn.metrics import r2_score\n",
    "\n",
    "coefficient_of_dermination = r2_score(testing_Y, predictions)\n",
    "print(\"The value of R-squared on training set is: \",round(clf.score(training_X, training_Y),3))\n",
    "print(\"The value of R-squared on testing set is: \",round(coefficient_of_dermination,3))"
   ]
  }
 ],
 "metadata": {
  "kernelspec": {
   "display_name": "Python [Root]",
   "language": "python",
   "name": "Python [Root]"
  },
  "language_info": {
   "codemirror_mode": {
    "name": "ipython",
    "version": 3
   },
   "file_extension": ".py",
   "mimetype": "text/x-python",
   "name": "python",
   "nbconvert_exporter": "python",
   "pygments_lexer": "ipython3",
   "version": "3.5.2"
  }
 },
 "nbformat": 4,
 "nbformat_minor": 0
}
