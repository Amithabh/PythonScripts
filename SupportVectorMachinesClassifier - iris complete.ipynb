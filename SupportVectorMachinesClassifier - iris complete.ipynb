{
 "cells": [
  {
   "cell_type": "markdown",
   "metadata": {},
   "source": [
    "# Support Vector Machines"
   ]
  },
  {
   "cell_type": "code",
   "execution_count": 1,
   "metadata": {
    "collapsed": true
   },
   "outputs": [],
   "source": [
    "import numpy as np\n",
    "%matplotlib inline\n",
    "from pylab import *\n",
    "from sklearn import svm, datasets\n",
    "from sklearn.datasets import load_iris\n",
    "import pandas as pd\n",
    "from sklearn import metrics"
   ]
  },
  {
   "cell_type": "code",
   "execution_count": 2,
   "metadata": {
    "collapsed": false
   },
   "outputs": [],
   "source": [
    "iris = load_iris()\n",
    "df = pd.DataFrame(iris.data, columns=iris.feature_names)\n",
    "df['is_train'] = np.random.uniform(0, 1, len(df)) <= .75\n",
    "df['species'] = pd.Categorical.from_codes(iris.target, iris.target_names)\n",
    "train, test = df[df['is_train']==True], df[df['is_train']==False]\n",
    "features = df.columns[:4]\n",
    "y_train, _ = pd.factorize(train['species'])\n",
    "X_train = train[features]\n",
    "actual, _ = pd.factorize(test['species'])\n",
    "X_test = test[features]"
   ]
  },
  {
   "cell_type": "code",
   "execution_count": 3,
   "metadata": {
    "collapsed": false
   },
   "outputs": [],
   "source": [
    "C = 1.0\n",
    "\n",
    "#svc = svm.SVC(kernel='linear', C=C).fit(X, y)\n",
    "#rbf_svc = svm.SVC(kernel='rbf', gamma=0.7, C=C).fit(X, y)\n",
    "#poly_svc = svm.SVC(kernel='poly', degree=3, C=C).fit(X, y)\n",
    "lin_svc = svm.LinearSVC(C=C).fit(X_train, y_train)"
   ]
  },
  {
   "cell_type": "code",
   "execution_count": 4,
   "metadata": {
    "collapsed": false
   },
   "outputs": [],
   "source": [
    "######----------  make predictions ------------#########\n",
    "#predicted = svc.predict(X_test)\n",
    "#predicted = rbf_svc.predict(X_test)\n",
    "#predicted = poly_svc.predict(X_test)\n",
    "predicted = lin_svc.predict(X_test)"
   ]
  },
  {
   "cell_type": "code",
   "execution_count": 5,
   "metadata": {
    "collapsed": false
   },
   "outputs": [
    {
     "name": "stdout",
     "output_type": "stream",
     "text": [
      "predicted   0   1   2\n",
      "actual               \n",
      "0          11   0   0\n",
      "1           0  12   1\n",
      "2           0   1  14\n",
      "\n",
      "             precision    recall  f1-score   support\n",
      "\n",
      "          0       1.00      1.00      1.00        11\n",
      "          1       0.92      0.92      0.92        13\n",
      "          2       0.93      0.93      0.93        15\n",
      "\n",
      "avg / total       0.95      0.95      0.95        39\n",
      "\n"
     ]
    }
   ],
   "source": [
    "# Evaluation of model\n",
    "print(pd.crosstab(actual, predicted, rownames=['actual'], colnames=['predicted']))\n",
    "\n",
    "print()\n",
    "\n",
    "# summarize the fit of the model\n",
    "print(metrics.classification_report(actual, predicted))"
   ]
  },
  {
   "cell_type": "code",
   "execution_count": 7,
   "metadata": {
    "collapsed": false
   },
   "outputs": [
    {
     "name": "stdout",
     "output_type": "stream",
     "text": [
      "[ 1.          1.          0.93333333  0.9         1.        ]\n",
      "0.966666666667\n"
     ]
    }
   ],
   "source": [
    "from sklearn import cross_validation\n",
    "# We give cross_val_score a model, the entire data set and its \"real\" values, and the number of folds:\n",
    "#scores_SVC = cross_validation.cross_val_score(svc, iris.data, iris.target, cv=5)\n",
    "#scores_RbfSVC = cross_validation.cross_val_score(rbf_svc, iris.data, iris.target, cv=5)\n",
    "#scores_PolySVC = cross_validation.cross_val_score(poly_svc, iris.data, iris.target, cv=5)\n",
    "scores_LinearSVC = cross_validation.cross_val_score(lin_svc, iris.data, iris.target, cv=5)\n",
    "\n",
    "# Print the accuracy for each fold:\n",
    "print (scores_LinearSVC)\n",
    "\n",
    "# And the mean accuracy of all 5 folds:\n",
    "#print (scores_SVC.mean())\n",
    "#print (scores_RbfSVC.mean())\n",
    "#print (scores_PolySVC.mean())\n",
    "print (scores_LinearSVC.mean())"
   ]
  }
 ],
 "metadata": {
  "anaconda-cloud": {},
  "kernelspec": {
   "display_name": "Python [Root]",
   "language": "python",
   "name": "Python [Root]"
  },
  "language_info": {
   "codemirror_mode": {
    "name": "ipython",
    "version": 3
   },
   "file_extension": ".py",
   "mimetype": "text/x-python",
   "name": "python",
   "nbconvert_exporter": "python",
   "pygments_lexer": "ipython3",
   "version": "3.5.2"
  }
 },
 "nbformat": 4,
 "nbformat_minor": 0
}
