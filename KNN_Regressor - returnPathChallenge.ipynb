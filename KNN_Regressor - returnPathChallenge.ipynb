{
 "cells": [
  {
   "cell_type": "code",
   "execution_count": 1,
   "metadata": {
    "collapsed": true
   },
   "outputs": [],
   "source": [
    "# Loading of libraries for analysis\n",
    "import matplotlib.pyplot as plt\n",
    "import numpy as np\n",
    "from sklearn import svm\n",
    "import pandas as pd\n",
    "from sklearn.neighbors import KNeighborsRegressor"
   ]
  },
  {
   "cell_type": "code",
   "execution_count": 2,
   "metadata": {
    "collapsed": false
   },
   "outputs": [],
   "source": [
    "# Preprocessing of data\n",
    "my_dat = pd.read_csv(\"assessment_challenge.csv\")\n",
    "my_dat = my_dat.dropna()\n",
    "X = my_dat.iloc[:,[7,8,9,10,11,12,13,14,16,17]]\n",
    "Y = my_dat.iloc[:,1]\n",
    "train_dat  = my_dat.sample(frac=0.7,random_state=200)\n",
    "test_dat = my_dat.drop(train_dat.index)\n",
    "training = train_dat.iloc[:,[1,7,8,9,10,11,12,13,14,16,17]]\n",
    "testing = test_dat.iloc[:,[1,7,8,9,10,11,12,13,14,16,17]]\n",
    "training_X = training.iloc[:,1:11]\n",
    "training_Y = training.iloc[:,0]\n",
    "testing_X = testing.iloc[:,1:11]\n",
    "testing_Y = testing.iloc[:,0]"
   ]
  },
  {
   "cell_type": "code",
   "execution_count": 3,
   "metadata": {
    "collapsed": false
   },
   "outputs": [],
   "source": [
    "# Training the model\n",
    "knn_reg = KNeighborsRegressor()\n",
    "knn_reg.fit(training_X, training_Y) "
   ]
  },
  {
   "cell_type": "code",
   "execution_count": 4,
   "metadata": {
    "collapsed": false
   },
   "outputs": [],
   "source": [
    "# Prediction and Evaluation of model\n",
    "predictions = knn_reg.predict(testing_X)\n",
    "from sklearn.metrics import r2_score\n",
    "\n",
    "coefficient_of_dermination = r2_score(testing_Y, predictions)\n",
    "print(\"The value of R-squared on training set is: \",round(knn_reg.score(training_X, training_Y),3))\n",
    "print(\"The value of R-squared on testing set is: \",round(coefficient_of_dermination,3))"
   ]
  },
  {
   "cell_type": "code",
   "execution_count": 5,
   "metadata": {
    "collapsed": false
   },
   "outputs": [
    {
     "name": "stdout",
     "output_type": "stream",
     "text": [
      "[ 0.74421516  0.75748763  0.77399815  0.75090986  0.75980928]\n",
      "0.757284015324\n"
     ]
    }
   ],
   "source": [
    "#Evaluation of model using K-fold Cross Validation\n",
    "from sklearn import cross_validation\n",
    "# We give cross_val_score a model, the entire data set and its \"real\" values, and the number of folds:\n",
    "scores = cross_validation.cross_val_score(knn_reg, X, Y, cv=5)\n",
    "\n",
    "# Print the accuracy for each fold:\n",
    "print (scores)\n",
    "\n",
    "# And the mean accuracy of all 5 folds:\n",
    "print (scores.mean())"
   ]
  }
 ],
 "metadata": {
  "anaconda-cloud": {},
  "kernelspec": {
   "display_name": "Python [Root]",
   "language": "python",
   "name": "Python [Root]"
  },
  "language_info": {
   "codemirror_mode": {
    "name": "ipython",
    "version": 3
   },
   "file_extension": ".py",
   "mimetype": "text/x-python",
   "name": "python",
   "nbconvert_exporter": "python",
   "pygments_lexer": "ipython3",
   "version": "3.5.2"
  }
 },
 "nbformat": 4,
 "nbformat_minor": 0
}
